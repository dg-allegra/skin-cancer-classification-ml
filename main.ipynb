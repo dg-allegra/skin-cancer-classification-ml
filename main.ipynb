{
  "cells": [
    {
      "cell_type": "markdown",
      "metadata": {
        "id": "o9XLeKaXuMzy"
      },
      "source": [
        "Skin cancer machine learning project"
      ]
    },
    {
      "cell_type": "code",
      "execution_count": null,
      "metadata": {
        "id": "uqaIhfx3zoEf"
      },
      "outputs": [],
      "source": [
        "# Libraries\n",
        "\n",
        "import os\n",
        "import random\n",
        "import shutil\n",
        "import cv2\n",
        "import numpy as np\n",
        "import matplotlib.pyplot as plt\n",
        "from google.colab import drive\n",
        "from skimage import color, img_as_ubyte\n",
        "from skimage.feature import hog, local_binary_pattern\n",
        "from sklearn.model_selection import train_test_split\n",
        "from sklearn.svm import SVC\n",
        "from sklearn.ensemble import RandomForestClassifier\n",
        "from sklearn.neighbors import KNeighborsClassifier\n",
        "from sklearn.metrics import classification_report, confusion_matrix, ConfusionMatrixDisplay, accuracy_score"
      ]
    },
    {
      "cell_type": "code",
      "execution_count": null,
      "metadata": {
        "id": "cMpu_J1MqsH5"
      },
      "outputs": [],
      "source": [
        "# Configuration\n",
        "\n",
        "TRAIN_RATIO = 0.7\n",
        "VAL_RATIO   = 0.15\n",
        "TEST_RATIO  = 0.15\n",
        "\n",
        "IMAGES_DIR = \"/content/drive/My Drive/Colab Notebooks/SkinCancerML/images\"\n",
        "DATASET_DIR = \"/content/drive/My Drive/Colab Notebooks/SkinCancerML/data\"\n",
        "\n",
        "FEATURE_EXTRACTOR = [\"HOG\", \"LBP\", \"ColorHist\"]\n",
        "MODEL_TYPE = [\"SVM\", \"KNN\", \"RandomForest\"]\n",
        "\n",
        "IMG_SIZE = (224, 224)"
      ]
    },
    {
      "cell_type": "code",
      "execution_count": null,
      "metadata": {
        "id": "oUXGcBtSq35m"
      },
      "outputs": [],
      "source": [
        "# Data shuffleling\n",
        "\n",
        "drive.mount(\"/content/drive\")\n",
        "\n",
        "required_dirs = [\"train\", \"val\", \"test\"]\n",
        "if all(os.path.exists(os.path.join(DATASET_DIR, d)) for d in required_dirs):\n",
        "    print(\"[INFO]: train/val/test folders already exist\")\n",
        "else:\n",
        "    print(\"[INFO]: Creating train/val/test folders...\")\n",
        "    for d in required_dirs:\n",
        "        for category in [\"benign\", \"malignant\"]:\n",
        "            os.makedirs(os.path.join(DATASET_DIR, d, category), exist_ok=True)\n",
        "\n",
        "    for category in [\"benign\", \"malignant\"]:\n",
        "        imgs = [f for f in os.listdir(os.path.join(IMAGES_DIR, category))\n",
        "                if f.lower().endswith((\".jpg\", \".jpeg\", \".png\"))]\n",
        "        random.shuffle(imgs)\n",
        "\n",
        "        total = len(imgs)\n",
        "        train_end = int(total * TRAIN_RATIO)\n",
        "        val_end   = train_end + int(total * VAL_RATIO)\n",
        "\n",
        "        splits = {\n",
        "            \"train\": imgs[:train_end],\n",
        "            \"val\": imgs[train_end:val_end],\n",
        "            \"test\": imgs[val_end:]\n",
        "        }\n",
        "\n",
        "        for split_name, split_imgs in splits.items():\n",
        "            for img in split_imgs:\n",
        "                shutil.copyfile(\n",
        "                    os.path.join(IMAGES_DIR, category, img),\n",
        "                    os.path.join(DATASET_DIR, split_name, category, img)\n",
        "                )\n",
        "\n",
        "    print(\"[INFO]: Image shuffling completed\")\n",
        "    print(f\"[INFO]: train={TRAIN_RATIO*100}%, val={VAL_RATIO*100}%, test={TEST_RATIO*100}%\")"
      ]
    },
    {
      "cell_type": "code",
      "execution_count": null,
      "metadata": {
        "id": "Dg7TUZxSrCFq"
      },
      "outputs": [],
      "source": [
        "# Functions\n",
        "\n",
        "def extract_hog_features(img):\n",
        "    gray = color.rgb2gray(img)\n",
        "    features = hog(gray, pixels_per_cell=(8,8), cells_per_block=(2,2), block_norm='L2-Hys')\n",
        "    return features\n",
        "\n",
        "def extract_lbp_features(img, P=8, R=1):\n",
        "    gray_image = color.rgb2gray(img)\n",
        "    gray_image_uint8 = img_as_ubyte(gray_image)  # 0-255 uint8\n",
        "    lbp = local_binary_pattern(gray_image_uint8, P, R, method=\"uniform\")\n",
        "    hist, _ = np.histogram(lbp.ravel(), bins=np.arange(0, P + 3), range=(0, P + 2))\n",
        "    hist = hist.astype(\"float\")\n",
        "    hist /= (hist.sum() + 1e-6)\n",
        "    return hist\n",
        "\n",
        "def extract_color_hist(img):\n",
        "    hist = cv2.calcHist([img], [0, 1, 2], None, [8, 8, 8],\n",
        "                        [0, 256, 0, 256, 0, 256])\n",
        "    hist = cv2.normalize(hist, hist).flatten()\n",
        "    return hist\n",
        "\n",
        "def extract_features(img_path, extractor):\n",
        "    img = cv2.imread(img_path)\n",
        "    img = cv2.resize(img, IMG_SIZE)\n",
        "    img = cv2.cvtColor(img, cv2.COLOR_BGR2RGB)\n",
        "\n",
        "    if extractor == \"HOG\":\n",
        "        return extract_hog_features(img)\n",
        "    elif extractor == \"LBP\":\n",
        "        return extract_lbp_features(img)\n",
        "    elif extractor == \"ColorHist\":\n",
        "        return extract_color_hist(img)\n",
        "    else:\n",
        "        raise ValueError(\"[ERROR]: Unknown extractor selected\")\n",
        "\n",
        "def load_dataset(split, extractor):\n",
        "    X, y = [], []\n",
        "    for label, category in enumerate([\"benign\", \"malignant\"]):\n",
        "        folder = os.path.join(DATASET_DIR, split, category)\n",
        "        for file in os.listdir(folder):\n",
        "            if file.lower().endswith((\".jpg\", \".jpeg\", \".png\")):\n",
        "                path = os.path.join(folder, file)\n",
        "                feats = extract_features(path, extractor)\n",
        "                X.append(feats)\n",
        "                y.append(label)\n",
        "    return np.array(X), np.array(y)"
      ]
    },
    {
      "cell_type": "code",
      "execution_count": null,
      "metadata": {
        "id": "itvXeL25rRBp"
      },
      "outputs": [],
      "source": [
        "# Load dataset\n",
        "\n",
        "results = []\n",
        "\n",
        "for mod in MODEL_TYPE:\n",
        "    for extractor in FEATURE_EXTRACTOR:\n",
        "        print(f\"[INFO]: Training with {mod} model and {extractor} feature extractor\")\n",
        "        X_train, y_train = load_dataset(\"train\", extractor)\n",
        "        X_val, y_val = load_dataset(\"val\", extractor)\n",
        "        X_test, y_test = load_dataset(\"test\", extractor)\n",
        "        print(f\"[INFO]: Feature extraction completed: {X_train.shape[1]} features per image \\n\")\n",
        "\n",
        "        # Model training\n",
        "        if mod == \"SVM\":\n",
        "            model = SVC(kernel='rbf', C=1.0, gamma='scale')\n",
        "        elif mod == \"KNN\":\n",
        "            model = KNeighborsClassifier(n_neighbors=5)\n",
        "        elif mod == \"RandomForest\":\n",
        "            model = RandomForestClassifier(n_estimators=100, random_state=42)\n",
        "        else:\n",
        "            raise ValueError(\"[ERROR]: Unknown model type selected\")\n",
        "\n",
        "        model.fit(X_train, y_train)\n",
        "\n",
        "        # Validation and test\n",
        "        y_test_pred = model.predict(X_test)\n",
        "        acc = accuracy_score(y_test, y_test_pred)\n",
        "\n",
        "        results.append({\n",
        "            \"Model\": mod,\n",
        "            \"Extractor\": extractor,\n",
        "            \"Accuracy\": acc\n",
        "        })\n",
        "\n",
        "# Plot sorted by accuracy\n",
        "results_sorted = sorted(results, key=lambda x: x[\"Accuracy\"], reverse=True)\n",
        "labels = [f\"{r['Model']}-{r['Extractor']}\" for r in results_sorted]\n",
        "accuracies = [r['Accuracy']*100 for r in results_sorted]\n",
        "\n",
        "plt.figure(figsize=(10,6))\n",
        "plt.barh(labels, accuracies, color='skyblue')\n",
        "plt.xlabel(\"Accuracy (%)\")\n",
        "plt.title(\"(Model - Feature Extractor) Accuracy\")\n",
        "plt.gca().invert_yaxis()\n",
        "plt.show()\n"
      ]
    }
  ],
  "metadata": {
    "colab": {
      "provenance": [],
      "authorship_tag": "ABX9TyO5uaEBFQkkCYA7FpQoM1jt"
    },
    "kernelspec": {
      "display_name": "Python 3",
      "name": "python3"
    },
    "language_info": {
      "name": "python"
    }
  },
  "nbformat": 4,
  "nbformat_minor": 0
}